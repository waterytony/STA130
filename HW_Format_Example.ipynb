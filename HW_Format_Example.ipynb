{
 "cells": [
  {
   "cell_type": "markdown",
   "id": "aa94eaf5",
   "metadata": {},
   "source": [
    "# Formatting Jupyter Notebook HW\n",
    "## 1. Introduction to Jupyter Notebook\n",
    "Jupyter Notebook is a great tool for writing code and documentation together! It has two main types of cells:\n",
    "- **Code Cells**: For writing and executing code.\n",
    "- **Markdown Cells**: For writing formatted text."
   ]
  },
  {
   "cell_type": "markdown",
   "id": "cfecc2e0",
   "metadata": {},
   "source": [
    "## 2. Code Cells\n",
    "Code cells allow you to write and execute code. For example:"
   ]
  },
  {
   "cell_type": "code",
   "execution_count": null,
   "id": "35c132b6",
   "metadata": {},
   "outputs": [],
   "source": [
    "print('Hello, World!')"
   ]
  },
  {
   "cell_type": "markdown",
   "id": "3bc96139",
   "metadata": {},
   "source": [
    "## 3. Markdown Cells\n",
    "Markdown cells allow you to write formatted text. Markdown is useful for adding explanations, instructions, and headings.\n",
    "\n",
    "### Example of Markdown\n",
    "You can format text in different ways:\n",
    "- **Bold Text**: Use `**bold**` or `__bold__`\n",
    "- *Italic Text*: Use `*italic*` or `_italic_`\n",
    "- `Monospace Text`: Use backticks for inline code.\n",
    "- You can also add bullet points, numbered lists, and links."
   ]
  },
  {
   "cell_type": "markdown",
   "id": "d34a0318",
   "metadata": {},
   "source": [
    "## 4. Applications\n",
    "- Make sure you add question numbers you are answering to\n",
    "- If you are adding text, make sure it's in a Markdown cell\n",
    "- If you are adding code, make sure it's in a code cell (look below)"
   ]
  },
  {
   "cell_type": "code",
   "execution_count": 8,
   "id": "7242fe58",
   "metadata": {
    "scrolled": true
   },
   "outputs": [
    {
     "name": "stdout",
     "output_type": "stream",
     "text": [
      "Jenny\n"
     ]
    }
   ],
   "source": [
    "print (\"Jenny\")\n",
    "# If you want to add text in a code cell, comment it out using # (sharp)"
   ]
  }
 ],
 "metadata": {
  "kernelspec": {
   "display_name": "Python 3 (ipykernel)",
   "language": "python",
   "name": "python3"
  },
  "language_info": {
   "codemirror_mode": {
    "name": "ipython",
    "version": 3
   },
   "file_extension": ".py",
   "mimetype": "text/x-python",
   "name": "python",
   "nbconvert_exporter": "python",
   "pygments_lexer": "ipython3",
   "version": "3.11.6"
  }
 },
 "nbformat": 4,
 "nbformat_minor": 5
}
